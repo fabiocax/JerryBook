{
 "cells": [
  {
   "cell_type": "markdown",
   "id": "multiple-neighbor",
   "metadata": {},
   "source": [
    "## Exemplo de uso do fastapi com Uvicorn"
   ]
  },
  {
   "cell_type": "code",
   "execution_count": null,
   "id": "approved-prisoner",
   "metadata": {},
   "outputs": [],
   "source": [
    "import uvicorn\n",
    "from fastapi import FastAPI\n",
    "import nest_asyncio\n",
    "\n",
    "app = FastAPI()\n",
    "\n",
    "\n",
    "@app.get(\"/\")\n",
    "async def root():\n",
    "    return {\"message\": \"Exemplo de uso do fastapi com Uvicorn\"}\n"
   ]
  },
  {
   "cell_type": "code",
   "execution_count": null,
   "id": "alive-tuning",
   "metadata": {},
   "outputs": [],
   "source": [
    "nest_asyncio.apply()\n",
    "uvicorn.run(app, host=\"0.0.0.0\", port=5000, log_level=\"info\")"
   ]
  }
 ],
 "metadata": {
  "kernelspec": {
   "display_name": "Python 3",
   "language": "python",
   "name": "python3"
  },
  "language_info": {
   "codemirror_mode": {
    "name": "ipython",
    "version": 3
   },
   "file_extension": ".py",
   "mimetype": "text/x-python",
   "name": "python",
   "nbconvert_exporter": "python",
   "pygments_lexer": "ipython3",
   "version": "3.9.5"
  }
 },
 "nbformat": 4,
 "nbformat_minor": 5
}
