{
 "cells": [
  {
   "cell_type": "code",
   "execution_count": 182,
   "id": "a750d401-9d52-4050-ab1f-dce4791a46a9",
   "metadata": {},
   "outputs": [
    {
     "name": "stdout",
     "output_type": "stream",
     "text": [
      "Requirement already satisfied: pyotp in ./lib/python3.9/site-packages (2.6.0)\n",
      "Requirement already satisfied: qrcode in ./lib/python3.9/site-packages (7.3.1)\n",
      "\u001b[33mWARNING: You are using pip version 21.0.1; however, version 22.1 is available.\n",
      "You should consider upgrading via the '/home/koerich/lab/bin/python3 -m pip install --upgrade pip' command.\u001b[0m\n"
     ]
    }
   ],
   "source": [
    "!pip install pyotp qrcode\n",
    "\n",
    "#https://www.programcreek.com/python/example/107569/pyotp.TOTP\n",
    "#https://pyauth.github.io/pyotp/\n"
   ]
  },
  {
   "cell_type": "code",
   "execution_count": 358,
   "id": "02b3e009-fc6f-4e55-aafc-545f08ad2300",
   "metadata": {},
   "outputs": [
    {
     "data": {
      "text/plain": [
       "True"
      ]
     },
     "execution_count": 358,
     "metadata": {},
     "output_type": "execute_result"
    }
   ],
   "source": [
    "import pyotp \n",
    "import time\n",
    "totp = pyotp.TOTP('base32secret3232')\n",
    "id=totp.now() # => '492039'\n",
    "id\n",
    "# OTP verified for current time\n",
    "totp.verify(id) # => True"
   ]
  },
  {
   "cell_type": "code",
   "execution_count": 93,
   "id": "fbb9d3c6-4097-4e6a-a8ee-44a73b68409b",
   "metadata": {},
   "outputs": [
    {
     "data": {
      "text/plain": [
       "True"
      ]
     },
     "execution_count": 93,
     "metadata": {},
     "output_type": "execute_result"
    }
   ],
   "source": [
    "totp.verify(id) # => False"
   ]
  },
  {
   "cell_type": "code",
   "execution_count": 390,
   "id": "c196827b-0dc4-41d4-99ae-404ffd3bee11",
   "metadata": {},
   "outputs": [
    {
     "data": {
      "text/plain": [
       "True"
      ]
     },
     "execution_count": 390,
     "metadata": {},
     "output_type": "execute_result"
    }
   ],
   "source": [
    "hotp = pyotp.HOTP('base32secret3232')\n",
    "hotp.at(0) # => '260182'\n",
    "hotp.at(1) # => '055283\n",
    "hotp.at(0) # => '316439'\n",
    "\n",
    "# OTP verified with a counter\n",
    "hotp.verify('260182', 0) # => True\n"
   ]
  },
  {
   "cell_type": "code",
   "execution_count": 374,
   "id": "9f0cfbe8-3da9-4de5-a117-917542e8658c",
   "metadata": {},
   "outputs": [
    {
     "data": {
      "text/plain": [
       "True"
      ]
     },
     "execution_count": 374,
     "metadata": {},
     "output_type": "execute_result"
    }
   ],
   "source": [
    "hotp.verify('260182', 0) # => False"
   ]
  },
  {
   "cell_type": "code",
   "execution_count": 415,
   "id": "9aa67745-bab8-4dc9-84ed-c60fe08c6a03",
   "metadata": {},
   "outputs": [],
   "source": [
    "#uri=pyotp.totp.TOTP('JBSWY3DPEHPK3PXP').provisioning_uri(name='fabiocax@gmail.com', issuer_name='Secure App')\n",
    "#dir(pyotp.parse_uri(uri))"
   ]
  },
  {
   "cell_type": "code",
   "execution_count": 426,
   "id": "194097b2-f4dc-49f8-80ea-7e83fecacbdd",
   "metadata": {},
   "outputs": [
    {
     "data": {
      "image/png": "[encoded data removed]",
      "text/plain": [
       "<qrcode.image.pil.PilImage at 0x7f7a7a25c5e0>"
      ]
     },
     "execution_count": 426,
     "metadata": {},
     "output_type": "execute_result"
    }
   ],
   "source": [
    "import qrcode \n",
    "import io\n",
    "totp = pyotp.TOTP('base32secret3232')\n",
    "uri = pyotp.totp.TOTP('JBSWY3DPEHPK3PXP').provisioning_uri(name='fabiocax@gmail.com', issuer_name='Teste Fabio')\n",
    "\n",
    "qr = qrcode.QRCode(box_size=10)\n",
    "qr.add_data(uri)\n",
    "qr.make(fit=True)\n",
    "\n",
    "image = qr.make_image(fill_color='black', back_color='white')\n",
    "buf = io.BytesIO()\n",
    "image.save(buf, format='PNG',name=\"teste.png\")\n",
    "image"
   ]
  },
  {
   "cell_type": "code",
   "execution_count": 434,
   "id": "0ada2781-0716-4244-a625-448490879d59",
   "metadata": {},
   "outputs": [
    {
     "data": {
      "text/plain": [
       "'681913'"
      ]
     },
     "execution_count": 434,
     "metadata": {},
     "output_type": "execute_result"
    }
   ],
   "source": [
    "import pyotp\n",
    "totp = pyotp.TOTP(\"JBSWY3DPEHPK3PXP\")\n",
    "totp.now()"
   ]
  }
 ],
 "metadata": {
  "kernelspec": {
   "display_name": "Python 3",
   "language": "python",
   "name": "python3"
  },
  "language_info": {
   "codemirror_mode": {
    "name": "ipython",
    "version": 3
   },
   "file_extension": ".py",
   "mimetype": "text/x-python",
   "name": "python",
   "nbconvert_exporter": "python",
   "pygments_lexer": "ipython3",
   "version": "3.9.10"
  }
 },
 "nbformat": 4,
 "nbformat_minor": 5
}
